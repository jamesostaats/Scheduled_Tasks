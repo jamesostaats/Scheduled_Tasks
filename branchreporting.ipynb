{
 "cells": [
  {
   "cell_type": "code",
   "execution_count": 4,
   "source": [
    "def branchreporting (file):\n",
    "\n",
    "    import pandas as pd\n",
    "    import pymssql\n",
    "    import os\n",
    "    \n",
    "    server,user,password='BranchReporting','CHR\\STAAJAM','password'\n",
    "\n",
    "    with open(file+\".sql\",\"r\") as f:\n",
    "        query=f.read()    \n",
    "    with pymssql.connect(server, user, password) as conn:\n",
    "        result=pd.read_sql(query, conn)\n",
    "    f.close()\n",
    "    \n",
    "    return result;"
   ],
   "outputs": [
    {
     "output_type": "execute_result",
     "data": {
      "text/html": [
       "<div>\n",
       "<style scoped>\n",
       "    .dataframe tbody tr th:only-of-type {\n",
       "        vertical-align: middle;\n",
       "    }\n",
       "\n",
       "    .dataframe tbody tr th {\n",
       "        vertical-align: top;\n",
       "    }\n",
       "\n",
       "    .dataframe thead th {\n",
       "        text-align: right;\n",
       "    }\n",
       "</style>\n",
       "<table border=\"1\" class=\"dataframe\">\n",
       "  <thead>\n",
       "    <tr style=\"text-align: right;\">\n",
       "      <th></th>\n",
       "      <th>name</th>\n",
       "    </tr>\n",
       "  </thead>\n",
       "  <tbody>\n",
       "    <tr>\n",
       "      <th>0</th>\n",
       "      <td>TEIJIN LIMITED</td>\n",
       "    </tr>\n",
       "    <tr>\n",
       "      <th>1</th>\n",
       "      <td>Merck Sharp &amp; Dohme B.V.</td>\n",
       "    </tr>\n",
       "    <tr>\n",
       "      <th>2</th>\n",
       "      <td>Seagate Technology</td>\n",
       "    </tr>\n",
       "    <tr>\n",
       "      <th>3</th>\n",
       "      <td>China Railway Group Limited</td>\n",
       "    </tr>\n",
       "    <tr>\n",
       "      <th>4</th>\n",
       "      <td>TÜV NORD AG</td>\n",
       "    </tr>\n",
       "    <tr>\n",
       "      <th>...</th>\n",
       "      <td>...</td>\n",
       "    </tr>\n",
       "    <tr>\n",
       "      <th>8199</th>\n",
       "      <td>Suzhou Talesun Solar Technologies Co.,Ltd</td>\n",
       "    </tr>\n",
       "    <tr>\n",
       "      <th>8200</th>\n",
       "      <td>DELTA ELECTRONICS INT'L (SINGAPORE) PTE. LTD.</td>\n",
       "    </tr>\n",
       "    <tr>\n",
       "      <th>8201</th>\n",
       "      <td>KEYSIGHT TECHNOLOGIES SINGAPORE (SALES) PTE. LTD</td>\n",
       "    </tr>\n",
       "    <tr>\n",
       "      <th>8202</th>\n",
       "      <td>TRUONG HAI AUTO CORPORATION</td>\n",
       "    </tr>\n",
       "    <tr>\n",
       "      <th>8203</th>\n",
       "      <td>JX NIPPON MINING &amp; METALS CORPORATION</td>\n",
       "    </tr>\n",
       "  </tbody>\n",
       "</table>\n",
       "<p>8204 rows × 1 columns</p>\n",
       "</div>"
      ],
      "text/plain": [
       "                                                  name\n",
       "0                                       TEIJIN LIMITED\n",
       "1                             Merck Sharp & Dohme B.V.\n",
       "2                                   Seagate Technology\n",
       "3                          China Railway Group Limited\n",
       "4                                          TÜV NORD AG\n",
       "...                                                ...\n",
       "8199         Suzhou Talesun Solar Technologies Co.,Ltd\n",
       "8200     DELTA ELECTRONICS INT'L (SINGAPORE) PTE. LTD.\n",
       "8201  KEYSIGHT TECHNOLOGIES SINGAPORE (SALES) PTE. LTD\n",
       "8202                       TRUONG HAI AUTO CORPORATION\n",
       "8203             JX NIPPON MINING & METALS CORPORATION\n",
       "\n",
       "[8204 rows x 1 columns]"
      ]
     },
     "metadata": {},
     "execution_count": 4
    }
   ],
   "metadata": {}
  }
 ],
 "metadata": {
  "language_info": {
   "name": "python",
   "version": "3.9.5",
   "mimetype": "text/x-python",
   "codemirror_mode": {
    "name": "ipython",
    "version": 3
   },
   "pygments_lexer": "ipython3",
   "nbconvert_exporter": "python",
   "file_extension": ".py"
  },
  "kernelspec": {
   "name": "python3",
   "display_name": "Python 3.9.5 64-bit ('base': conda)"
  },
  "interpreter": {
   "hash": "09b28111ed1ffe4ebb16401c3843e6c419562eb1f86651469f2c09a157470f40"
  }
 },
 "nbformat": 4,
 "nbformat_minor": 5
}